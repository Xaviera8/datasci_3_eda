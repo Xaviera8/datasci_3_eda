{
  "cells": [
    {
      "cell_type": "markdown",
      "metadata": {
        "id": "view-in-github",
        "colab_type": "text"
      },
      "source": [
        "<a href=\"https://colab.research.google.com/github/Xaviera8/datasci_3_eda/blob/main/datasci_3_eda.ipynb\" target=\"_parent\"><img src=\"https://colab.research.google.com/assets/colab-badge.svg\" alt=\"Open In Colab\"/></a>"
      ]
    },
    {
      "cell_type": "markdown",
      "metadata": {
        "id": "G2rCSJdwyNZ5"
      },
      "source": [
        "## **Week 3: Exploratory Data Analysis (EDA)**\n",
        "\n",
        "### **Objective**:\n",
        "Engage in the critical phase of Exploratory Data Analysis (EDA) using the tools and techniques from Python to uncover patterns, spot anomalies, test hypotheses, and identify the main structures of your dataset.\n",
        "\n",
        "### **Instructions**:\n",
        "\n",
        "\n",
        "\n"
      ]
    },
    {
      "cell_type": "markdown",
      "metadata": {
        "id": "GQO4iazByNZ6"
      },
      "source": [
        "### **1. Univariate Analysis:**\n",
        "- Load a dataset of your choice in your Colab notebook .ipynb or in a python script .py (you can use one from previous assignments or find a new one).\n",
        "- Manually perform a univariate analysis to understand the distribution of each variable. This includes calculating measures of central tendency (mean, median, mode) and measures of spread (range, variance, standard deviation, IQR).\n",
        "- Visualize the distribution of select numerical variables using histograms.\n"
      ]
    },
    {
      "cell_type": "code",
      "execution_count": null,
      "metadata": {
        "id": "jfRAjGSGyNZ6",
        "outputId": "de6188e0-b13d-41d7-e3b6-d56dca3bc7c8"
      },
      "outputs": [
        {
          "data": {
            "text/html": [
              "<div>\n",
              "<style scoped>\n",
              "    .dataframe tbody tr th:only-of-type {\n",
              "        vertical-align: middle;\n",
              "    }\n",
              "\n",
              "    .dataframe tbody tr th {\n",
              "        vertical-align: top;\n",
              "    }\n",
              "\n",
              "    .dataframe thead th {\n",
              "        text-align: right;\n",
              "    }\n",
              "</style>\n",
              "<table border=\"1\" class=\"dataframe\">\n",
              "  <thead>\n",
              "    <tr style=\"text-align: right;\">\n",
              "      <th></th>\n",
              "      <th>work_year</th>\n",
              "      <th>experience_level</th>\n",
              "      <th>employment_type</th>\n",
              "      <th>job_title</th>\n",
              "      <th>salary</th>\n",
              "      <th>salary_currency</th>\n",
              "      <th>salary_in_usd</th>\n",
              "      <th>employee_residence</th>\n",
              "      <th>remote_ratio</th>\n",
              "      <th>company_location</th>\n",
              "      <th>company_size</th>\n",
              "    </tr>\n",
              "  </thead>\n",
              "  <tbody>\n",
              "    <tr>\n",
              "      <th>0</th>\n",
              "      <td>2023</td>\n",
              "      <td>SE</td>\n",
              "      <td>FT</td>\n",
              "      <td>Principal Data Scientist</td>\n",
              "      <td>80000</td>\n",
              "      <td>EUR</td>\n",
              "      <td>85847</td>\n",
              "      <td>ES</td>\n",
              "      <td>100</td>\n",
              "      <td>ES</td>\n",
              "      <td>L</td>\n",
              "    </tr>\n",
              "    <tr>\n",
              "      <th>1</th>\n",
              "      <td>2023</td>\n",
              "      <td>MI</td>\n",
              "      <td>CT</td>\n",
              "      <td>ML Engineer</td>\n",
              "      <td>30000</td>\n",
              "      <td>USD</td>\n",
              "      <td>30000</td>\n",
              "      <td>US</td>\n",
              "      <td>100</td>\n",
              "      <td>US</td>\n",
              "      <td>S</td>\n",
              "    </tr>\n",
              "    <tr>\n",
              "      <th>2</th>\n",
              "      <td>2023</td>\n",
              "      <td>MI</td>\n",
              "      <td>CT</td>\n",
              "      <td>ML Engineer</td>\n",
              "      <td>25500</td>\n",
              "      <td>USD</td>\n",
              "      <td>25500</td>\n",
              "      <td>US</td>\n",
              "      <td>100</td>\n",
              "      <td>US</td>\n",
              "      <td>S</td>\n",
              "    </tr>\n",
              "    <tr>\n",
              "      <th>3</th>\n",
              "      <td>2023</td>\n",
              "      <td>SE</td>\n",
              "      <td>FT</td>\n",
              "      <td>Data Scientist</td>\n",
              "      <td>175000</td>\n",
              "      <td>USD</td>\n",
              "      <td>175000</td>\n",
              "      <td>CA</td>\n",
              "      <td>100</td>\n",
              "      <td>CA</td>\n",
              "      <td>M</td>\n",
              "    </tr>\n",
              "    <tr>\n",
              "      <th>4</th>\n",
              "      <td>2023</td>\n",
              "      <td>SE</td>\n",
              "      <td>FT</td>\n",
              "      <td>Data Scientist</td>\n",
              "      <td>120000</td>\n",
              "      <td>USD</td>\n",
              "      <td>120000</td>\n",
              "      <td>CA</td>\n",
              "      <td>100</td>\n",
              "      <td>CA</td>\n",
              "      <td>M</td>\n",
              "    </tr>\n",
              "    <tr>\n",
              "      <th>...</th>\n",
              "      <td>...</td>\n",
              "      <td>...</td>\n",
              "      <td>...</td>\n",
              "      <td>...</td>\n",
              "      <td>...</td>\n",
              "      <td>...</td>\n",
              "      <td>...</td>\n",
              "      <td>...</td>\n",
              "      <td>...</td>\n",
              "      <td>...</td>\n",
              "      <td>...</td>\n",
              "    </tr>\n",
              "    <tr>\n",
              "      <th>3750</th>\n",
              "      <td>2020</td>\n",
              "      <td>SE</td>\n",
              "      <td>FT</td>\n",
              "      <td>Data Scientist</td>\n",
              "      <td>412000</td>\n",
              "      <td>USD</td>\n",
              "      <td>412000</td>\n",
              "      <td>US</td>\n",
              "      <td>100</td>\n",
              "      <td>US</td>\n",
              "      <td>L</td>\n",
              "    </tr>\n",
              "    <tr>\n",
              "      <th>3751</th>\n",
              "      <td>2021</td>\n",
              "      <td>MI</td>\n",
              "      <td>FT</td>\n",
              "      <td>Principal Data Scientist</td>\n",
              "      <td>151000</td>\n",
              "      <td>USD</td>\n",
              "      <td>151000</td>\n",
              "      <td>US</td>\n",
              "      <td>100</td>\n",
              "      <td>US</td>\n",
              "      <td>L</td>\n",
              "    </tr>\n",
              "    <tr>\n",
              "      <th>3752</th>\n",
              "      <td>2020</td>\n",
              "      <td>EN</td>\n",
              "      <td>FT</td>\n",
              "      <td>Data Scientist</td>\n",
              "      <td>105000</td>\n",
              "      <td>USD</td>\n",
              "      <td>105000</td>\n",
              "      <td>US</td>\n",
              "      <td>100</td>\n",
              "      <td>US</td>\n",
              "      <td>S</td>\n",
              "    </tr>\n",
              "    <tr>\n",
              "      <th>3753</th>\n",
              "      <td>2020</td>\n",
              "      <td>EN</td>\n",
              "      <td>CT</td>\n",
              "      <td>Business Data Analyst</td>\n",
              "      <td>100000</td>\n",
              "      <td>USD</td>\n",
              "      <td>100000</td>\n",
              "      <td>US</td>\n",
              "      <td>100</td>\n",
              "      <td>US</td>\n",
              "      <td>L</td>\n",
              "    </tr>\n",
              "    <tr>\n",
              "      <th>3754</th>\n",
              "      <td>2021</td>\n",
              "      <td>SE</td>\n",
              "      <td>FT</td>\n",
              "      <td>Data Science Manager</td>\n",
              "      <td>7000000</td>\n",
              "      <td>INR</td>\n",
              "      <td>94665</td>\n",
              "      <td>IN</td>\n",
              "      <td>50</td>\n",
              "      <td>IN</td>\n",
              "      <td>L</td>\n",
              "    </tr>\n",
              "  </tbody>\n",
              "</table>\n",
              "<p>3755 rows × 11 columns</p>\n",
              "</div>"
            ],
            "text/plain": [
              "      work_year experience_level employment_type                 job_title  \\\n",
              "0          2023               SE              FT  Principal Data Scientist   \n",
              "1          2023               MI              CT               ML Engineer   \n",
              "2          2023               MI              CT               ML Engineer   \n",
              "3          2023               SE              FT            Data Scientist   \n",
              "4          2023               SE              FT            Data Scientist   \n",
              "...         ...              ...             ...                       ...   \n",
              "3750       2020               SE              FT            Data Scientist   \n",
              "3751       2021               MI              FT  Principal Data Scientist   \n",
              "3752       2020               EN              FT            Data Scientist   \n",
              "3753       2020               EN              CT     Business Data Analyst   \n",
              "3754       2021               SE              FT      Data Science Manager   \n",
              "\n",
              "       salary salary_currency  salary_in_usd employee_residence  remote_ratio  \\\n",
              "0       80000             EUR          85847                 ES           100   \n",
              "1       30000             USD          30000                 US           100   \n",
              "2       25500             USD          25500                 US           100   \n",
              "3      175000             USD         175000                 CA           100   \n",
              "4      120000             USD         120000                 CA           100   \n",
              "...       ...             ...            ...                ...           ...   \n",
              "3750   412000             USD         412000                 US           100   \n",
              "3751   151000             USD         151000                 US           100   \n",
              "3752   105000             USD         105000                 US           100   \n",
              "3753   100000             USD         100000                 US           100   \n",
              "3754  7000000             INR          94665                 IN            50   \n",
              "\n",
              "     company_location company_size  \n",
              "0                  ES            L  \n",
              "1                  US            S  \n",
              "2                  US            S  \n",
              "3                  CA            M  \n",
              "4                  CA            M  \n",
              "...               ...          ...  \n",
              "3750               US            L  \n",
              "3751               US            L  \n",
              "3752               US            S  \n",
              "3753               US            L  \n",
              "3754               IN            L  \n",
              "\n",
              "[3755 rows x 11 columns]"
            ]
          },
          "execution_count": 2,
          "metadata": {},
          "output_type": "execute_result"
        }
      ],
      "source": [
        "import pandas as pd\n",
        "import numpy as np\n",
        "import matplotlib.pyplot as plt\n",
        "\n",
        "file = (r'c:\\Users\\Xavier\\Downloads\\ds_salaries.csv')\n",
        "df = pd.read_csv(file)\n",
        "df"
      ]
    },
    {
      "cell_type": "markdown",
      "source": [
        "#### This dataset was already cleaned so this step was skipped"
      ],
      "metadata": {
        "id": "j3jqFiXczCZM"
      }
    },
    {
      "cell_type": "markdown",
      "metadata": {
        "id": "v-FXPNlfyNZ7"
      },
      "source": [
        "#### Look for missingness"
      ]
    },
    {
      "cell_type": "code",
      "execution_count": null,
      "metadata": {
        "id": "eZBv4XJTyNZ8",
        "outputId": "0eaf6836-4d34-40bc-de07-f43cffa4192e"
      },
      "outputs": [
        {
          "data": {
            "text/html": [
              "<div>\n",
              "<style scoped>\n",
              "    .dataframe tbody tr th:only-of-type {\n",
              "        vertical-align: middle;\n",
              "    }\n",
              "\n",
              "    .dataframe tbody tr th {\n",
              "        vertical-align: top;\n",
              "    }\n",
              "\n",
              "    .dataframe thead th {\n",
              "        text-align: right;\n",
              "    }\n",
              "</style>\n",
              "<table border=\"1\" class=\"dataframe\">\n",
              "  <thead>\n",
              "    <tr style=\"text-align: right;\">\n",
              "      <th></th>\n",
              "      <th>work_year</th>\n",
              "      <th>experience_level</th>\n",
              "      <th>employment_type</th>\n",
              "      <th>job_title</th>\n",
              "      <th>salary</th>\n",
              "      <th>salary_currency</th>\n",
              "      <th>salary_in_usd</th>\n",
              "      <th>employee_residence</th>\n",
              "      <th>remote_ratio</th>\n",
              "      <th>company_location</th>\n",
              "      <th>company_size</th>\n",
              "    </tr>\n",
              "  </thead>\n",
              "  <tbody>\n",
              "    <tr>\n",
              "      <th>3150</th>\n",
              "      <td>2022</td>\n",
              "      <td>SE</td>\n",
              "      <td>FT</td>\n",
              "      <td>ML Engineer</td>\n",
              "      <td>240000</td>\n",
              "      <td>USD</td>\n",
              "      <td>240000</td>\n",
              "      <td>US</td>\n",
              "      <td>0</td>\n",
              "      <td>US</td>\n",
              "      <td>M</td>\n",
              "    </tr>\n",
              "    <tr>\n",
              "      <th>3512</th>\n",
              "      <td>2021</td>\n",
              "      <td>EX</td>\n",
              "      <td>FT</td>\n",
              "      <td>Director of Data Science</td>\n",
              "      <td>250000</td>\n",
              "      <td>USD</td>\n",
              "      <td>250000</td>\n",
              "      <td>US</td>\n",
              "      <td>0</td>\n",
              "      <td>US</td>\n",
              "      <td>L</td>\n",
              "    </tr>\n",
              "    <tr>\n",
              "      <th>2233</th>\n",
              "      <td>2022</td>\n",
              "      <td>SE</td>\n",
              "      <td>FT</td>\n",
              "      <td>Data Architect</td>\n",
              "      <td>175000</td>\n",
              "      <td>USD</td>\n",
              "      <td>175000</td>\n",
              "      <td>US</td>\n",
              "      <td>100</td>\n",
              "      <td>US</td>\n",
              "      <td>M</td>\n",
              "    </tr>\n",
              "    <tr>\n",
              "      <th>1135</th>\n",
              "      <td>2023</td>\n",
              "      <td>MI</td>\n",
              "      <td>FT</td>\n",
              "      <td>Machine Learning Engineer</td>\n",
              "      <td>148500</td>\n",
              "      <td>USD</td>\n",
              "      <td>148500</td>\n",
              "      <td>US</td>\n",
              "      <td>0</td>\n",
              "      <td>US</td>\n",
              "      <td>M</td>\n",
              "    </tr>\n",
              "    <tr>\n",
              "      <th>1033</th>\n",
              "      <td>2023</td>\n",
              "      <td>SE</td>\n",
              "      <td>FT</td>\n",
              "      <td>Data Manager</td>\n",
              "      <td>44737</td>\n",
              "      <td>GBP</td>\n",
              "      <td>54365</td>\n",
              "      <td>GB</td>\n",
              "      <td>0</td>\n",
              "      <td>GB</td>\n",
              "      <td>M</td>\n",
              "    </tr>\n",
              "    <tr>\n",
              "      <th>2225</th>\n",
              "      <td>2022</td>\n",
              "      <td>SE</td>\n",
              "      <td>FT</td>\n",
              "      <td>Data Engineer</td>\n",
              "      <td>134000</td>\n",
              "      <td>USD</td>\n",
              "      <td>134000</td>\n",
              "      <td>US</td>\n",
              "      <td>0</td>\n",
              "      <td>US</td>\n",
              "      <td>M</td>\n",
              "    </tr>\n",
              "    <tr>\n",
              "      <th>3023</th>\n",
              "      <td>2022</td>\n",
              "      <td>MI</td>\n",
              "      <td>FT</td>\n",
              "      <td>Data Analyst</td>\n",
              "      <td>450000</td>\n",
              "      <td>INR</td>\n",
              "      <td>5723</td>\n",
              "      <td>IN</td>\n",
              "      <td>100</td>\n",
              "      <td>IN</td>\n",
              "      <td>S</td>\n",
              "    </tr>\n",
              "    <tr>\n",
              "      <th>2985</th>\n",
              "      <td>2022</td>\n",
              "      <td>MI</td>\n",
              "      <td>FT</td>\n",
              "      <td>Data Scientist</td>\n",
              "      <td>85000</td>\n",
              "      <td>EUR</td>\n",
              "      <td>89306</td>\n",
              "      <td>NL</td>\n",
              "      <td>0</td>\n",
              "      <td>NL</td>\n",
              "      <td>M</td>\n",
              "    </tr>\n",
              "    <tr>\n",
              "      <th>1967</th>\n",
              "      <td>2022</td>\n",
              "      <td>EN</td>\n",
              "      <td>FT</td>\n",
              "      <td>Data Analyst</td>\n",
              "      <td>48000</td>\n",
              "      <td>USD</td>\n",
              "      <td>48000</td>\n",
              "      <td>US</td>\n",
              "      <td>0</td>\n",
              "      <td>US</td>\n",
              "      <td>M</td>\n",
              "    </tr>\n",
              "    <tr>\n",
              "      <th>2261</th>\n",
              "      <td>2022</td>\n",
              "      <td>MI</td>\n",
              "      <td>FT</td>\n",
              "      <td>Data Analyst</td>\n",
              "      <td>165000</td>\n",
              "      <td>USD</td>\n",
              "      <td>165000</td>\n",
              "      <td>US</td>\n",
              "      <td>0</td>\n",
              "      <td>US</td>\n",
              "      <td>M</td>\n",
              "    </tr>\n",
              "  </tbody>\n",
              "</table>\n",
              "</div>"
            ],
            "text/plain": [
              "      work_year experience_level employment_type                  job_title  \\\n",
              "3150       2022               SE              FT                ML Engineer   \n",
              "3512       2021               EX              FT   Director of Data Science   \n",
              "2233       2022               SE              FT             Data Architect   \n",
              "1135       2023               MI              FT  Machine Learning Engineer   \n",
              "1033       2023               SE              FT               Data Manager   \n",
              "2225       2022               SE              FT              Data Engineer   \n",
              "3023       2022               MI              FT               Data Analyst   \n",
              "2985       2022               MI              FT             Data Scientist   \n",
              "1967       2022               EN              FT               Data Analyst   \n",
              "2261       2022               MI              FT               Data Analyst   \n",
              "\n",
              "      salary salary_currency  salary_in_usd employee_residence  remote_ratio  \\\n",
              "3150  240000             USD         240000                 US             0   \n",
              "3512  250000             USD         250000                 US             0   \n",
              "2233  175000             USD         175000                 US           100   \n",
              "1135  148500             USD         148500                 US             0   \n",
              "1033   44737             GBP          54365                 GB             0   \n",
              "2225  134000             USD         134000                 US             0   \n",
              "3023  450000             INR           5723                 IN           100   \n",
              "2985   85000             EUR          89306                 NL             0   \n",
              "1967   48000             USD          48000                 US             0   \n",
              "2261  165000             USD         165000                 US             0   \n",
              "\n",
              "     company_location company_size  \n",
              "3150               US            M  \n",
              "3512               US            L  \n",
              "2233               US            M  \n",
              "1135               US            M  \n",
              "1033               GB            M  \n",
              "2225               US            M  \n",
              "3023               IN            S  \n",
              "2985               NL            M  \n",
              "1967               US            M  \n",
              "2261               US            M  "
            ]
          },
          "execution_count": 4,
          "metadata": {},
          "output_type": "execute_result"
        }
      ],
      "source": [
        "df.shape\n",
        "df.sample(10)"
      ]
    },
    {
      "cell_type": "code",
      "execution_count": null,
      "metadata": {
        "id": "23-RypvNyNZ8",
        "outputId": "1829756a-fa3b-4149-8510-8e91ef3ec34c"
      },
      "outputs": [
        {
          "data": {
            "text/plain": [
              "work_year             0\n",
              "experience_level      0\n",
              "employment_type       0\n",
              "job_title             0\n",
              "salary                0\n",
              "salary_currency       0\n",
              "salary_in_usd         0\n",
              "employee_residence    0\n",
              "remote_ratio          0\n",
              "company_location      0\n",
              "company_size          0\n",
              "dtype: int64"
            ]
          },
          "execution_count": 5,
          "metadata": {},
          "output_type": "execute_result"
        }
      ],
      "source": [
        "df.isnull().sum()"
      ]
    },
    {
      "cell_type": "markdown",
      "metadata": {
        "id": "qXeO-f9RyNZ9"
      },
      "source": [
        "#### What are the Measures of Central Tendency for the Variables?\n"
      ]
    },
    {
      "cell_type": "code",
      "execution_count": null,
      "metadata": {
        "id": "mOs4o-CvyNZ7",
        "outputId": "8e1709e5-c510-4387-a716-ebaec0cda5b5"
      },
      "outputs": [
        {
          "data": {
            "text/plain": [
              "count      3755.000000\n",
              "mean     137570.389880\n",
              "std       63055.625278\n",
              "min        5132.000000\n",
              "25%       95000.000000\n",
              "50%      135000.000000\n",
              "75%      175000.000000\n",
              "max      450000.000000\n",
              "Name: salary_in_usd, dtype: float64"
            ]
          },
          "execution_count": 3,
          "metadata": {},
          "output_type": "execute_result"
        }
      ],
      "source": [
        "df['salary_in_usd'].describe()"
      ]
    },
    {
      "cell_type": "code",
      "execution_count": null,
      "metadata": {
        "id": "7iWL4w2yyNZ9",
        "outputId": "c28d7510-1432-466c-f7a3-aedd46b6945e"
      },
      "outputs": [
        {
          "name": "stdout",
          "output_type": "stream",
          "text": [
            "The average salary is $ 137570.38988015978\n",
            "\n",
            "The median salary is $ 135000.0\n",
            "\n",
            "The most common salary is $ 100000\n",
            "\n",
            "the variance for salaries in USD is $ 3974953021.204052\n",
            "\n",
            "the standard deviation for salaries in USD is $ 63047.228497405435\n",
            "\n",
            "the 25th percentile is $ 95000.0\n",
            "\n",
            "the 50th percentile is $ 135000.0\n",
            "\n",
            "the 75th percentile is $ 175000.0\n",
            "\n",
            "the interquartile range is $ 80000.0\n",
            "\n",
            "the range for the USD salaries is $ 444868\n"
          ]
        }
      ],
      "source": [
        "salary = df['salary_in_usd']\n",
        "salary_mean = salary.mean()\n",
        "salary_median = salary.median()\n",
        "salary_mode = salary.mode()\n",
        "\n",
        "print('The average salary is $',salary_mean)\n",
        "print('\\nThe median salary is $',salary_median)\n",
        "print('\\nThe most common salary is $',salary_mode[0])\n",
        "\n",
        "#  Calculate variance and standard deviation for BP\n",
        "salary_var = np.var(df['salary_in_usd'])\n",
        "salary_std_dev = np.std(df['salary_in_usd'])\n",
        "\n",
        "print('\\nthe variance for salaries in USD is $',salary_var)\n",
        "print('\\nthe standard deviation for salaries in USD is $', salary_std_dev)\n",
        "\n",
        "# Calculate percentiles for Glucose\n",
        "salary_percentile_25 = np.percentile(df['salary_in_usd'], 25)\n",
        "salary_percentile_50 = np.percentile(df['salary_in_usd'], 50)\n",
        "salary_percentile_75 = np.percentile(df['salary_in_usd'], 75)\n",
        "\n",
        "salary_range = (df['salary_in_usd'].max()) - (df['salary_in_usd'].min())\n",
        "\n",
        "print('\\nthe 25th percentile is $', salary_percentile_25)\n",
        "print('\\nthe 50th percentile is $', salary_percentile_50)\n",
        "print('\\nthe 75th percentile is $', salary_percentile_75)\n",
        "\n",
        "print('\\nthe range for the USD salaries is $', salary_range)"
      ]
    },
    {
      "cell_type": "markdown",
      "metadata": {
        "id": "6vdARjkQyNZ-"
      },
      "source": [
        "### **2. Bivariate Analysis:**\n",
        "- Analyze the relationship between pairs of variables.\n",
        "  - Use scatter plots to explore potential relationships between two numerical variables.\n",
        "  - For categorical and numerical variable pairs, use boxplots.\n",
        "- Compute correlation coefficients for numerical variables and document any strong correlations observed.\n",
        "\n"
      ]
    },
    {
      "cell_type": "markdown",
      "source": [
        "#### Create a scatter plot"
      ],
      "metadata": {
        "id": "QjUV8HxuydsC"
      }
    },
    {
      "cell_type": "code",
      "execution_count": null,
      "metadata": {
        "id": "Hp7jNgcxyNZ_",
        "outputId": "7118c504-d65a-4e04-b19b-690e883d0e31"
      },
      "outputs": [
        {
          "data": {
            "image/png": "[encoded data removed]",
            "text/plain": [
              "<Figure size 1000x600 with 1 Axes>"
            ]
          },
          "metadata": {},
          "output_type": "display_data"
        }
      ],
      "source": [
        "plt.figure(figsize=(10, 6))\n",
        "plt.scatter(df['salary_in_usd'], df['remote_ratio'], alpha=0.5)\n",
        "plt.xlabel('Salary')\n",
        "plt.ylabel('Remote Ratio')\n",
        "plt.title('Scatter Plot of Salary vs Ratio of Remote Days')\n",
        "plt.grid()\n",
        "plt.show()"
      ]
    },
    {
      "cell_type": "markdown",
      "source": [
        "#### Create a boxplot"
      ],
      "metadata": {
        "id": "NMDFfQWuymHc"
      }
    },
    {
      "cell_type": "code",
      "execution_count": null,
      "metadata": {
        "id": "YVj_Dm9NyNaA",
        "outputId": "f1a9d6da-acfd-414c-f071-4322c15874eb"
      },
      "outputs": [
        {
          "data": {
            "image/png": "[encoded data removed]",
            "text/plain": [
              "<Figure size 800x600 with 1 Axes>"
            ]
          },
          "metadata": {},
          "output_type": "display_data"
        }
      ],
      "source": [
        "\n",
        "group_labels = ['Salaries']\n",
        "# Create box plots\n",
        "plt.figure(figsize=(8, 6))\n",
        "plt.boxplot(salary, labels=group_labels)\n",
        "plt.xlabel('All experience levels')\n",
        "plt.ylabel('Salary in USD')\n",
        "plt.title('Box Plot of Data Scientist Salaries')\n",
        "plt.grid()\n",
        "plt.show()"
      ]
    },
    {
      "cell_type": "markdown",
      "source": [
        "#### Boxplot attempt\n"
      ],
      "metadata": {
        "id": "EsFAKLqnyqTJ"
      }
    },
    {
      "cell_type": "markdown",
      "metadata": {
        "id": "9L2CRJCSyNaA"
      },
      "source": [
        "I attempted to create 3 boxes representing the experience level but was unable to do so successfully."
      ]
    },
    {
      "cell_type": "code",
      "execution_count": null,
      "metadata": {
        "id": "W8HXjcWByNaA",
        "outputId": "f929a1fb-6260-453f-f104-5593efb28988"
      },
      "outputs": [
        {
          "ename": "ValueError",
          "evalue": "setting an array element with a sequence. The requested array has an inhomogeneous shape after 1 dimensions. The detected shape was (2,) + inhomogeneous part.",
          "output_type": "error",
          "traceback": [
            "\u001b[1;31m---------------------------------------------------------------------------\u001b[0m",
            "\u001b[1;31mValueError\u001b[0m                                Traceback (most recent call last)",
            "\u001b[1;32mc:\\Users\\Xavier\\OneDrive\\Desktop\\HHA 504 Cloud Computing\\Week 2 Assignment.ipynb Cell 14\u001b[0m line \u001b[0;36m6\n\u001b[0;32m      <a href='vscode-notebook-cell:/c%3A/Users/Xavier/OneDrive/Desktop/HHA%20504%20Cloud%20Computing/Week%202%20Assignment.ipynb#X43sZmlsZQ%3D%3D?line=3'>4</a>\u001b[0m \u001b[39m# Create box plots\u001b[39;00m\n\u001b[0;32m      <a href='vscode-notebook-cell:/c%3A/Users/Xavier/OneDrive/Desktop/HHA%20504%20Cloud%20Computing/Week%202%20Assignment.ipynb#X43sZmlsZQ%3D%3D?line=4'>5</a>\u001b[0m plt\u001b[39m.\u001b[39mfigure(figsize\u001b[39m=\u001b[39m(\u001b[39m8\u001b[39m, \u001b[39m6\u001b[39m))\n\u001b[1;32m----> <a href='vscode-notebook-cell:/c%3A/Users/Xavier/OneDrive/Desktop/HHA%20504%20Cloud%20Computing/Week%202%20Assignment.ipynb#X43sZmlsZQ%3D%3D?line=5'>6</a>\u001b[0m plt\u001b[39m.\u001b[39;49mboxplot(sal, labels\u001b[39m=\u001b[39;49mgroup_labels)\n\u001b[0;32m      <a href='vscode-notebook-cell:/c%3A/Users/Xavier/OneDrive/Desktop/HHA%20504%20Cloud%20Computing/Week%202%20Assignment.ipynb#X43sZmlsZQ%3D%3D?line=6'>7</a>\u001b[0m plt\u001b[39m.\u001b[39mxlabel(\u001b[39m'\u001b[39m\u001b[39mAll experience levels\u001b[39m\u001b[39m'\u001b[39m)\n\u001b[0;32m      <a href='vscode-notebook-cell:/c%3A/Users/Xavier/OneDrive/Desktop/HHA%20504%20Cloud%20Computing/Week%202%20Assignment.ipynb#X43sZmlsZQ%3D%3D?line=7'>8</a>\u001b[0m plt\u001b[39m.\u001b[39mylabel(\u001b[39m'\u001b[39m\u001b[39mSalary in USD\u001b[39m\u001b[39m'\u001b[39m)\n",
            "File \u001b[1;32mc:\\Users\\Xavier\\AppData\\Local\\Programs\\Python\\Python310\\lib\\site-packages\\matplotlib\\pyplot.py:2483\u001b[0m, in \u001b[0;36mboxplot\u001b[1;34m(x, notch, sym, vert, whis, positions, widths, patch_artist, bootstrap, usermedians, conf_intervals, meanline, showmeans, showcaps, showbox, showfliers, boxprops, labels, flierprops, medianprops, meanprops, capprops, whiskerprops, manage_ticks, autorange, zorder, capwidths, data)\u001b[0m\n\u001b[0;32m   2473\u001b[0m \u001b[39m@_copy_docstring_and_deprecators\u001b[39m(Axes\u001b[39m.\u001b[39mboxplot)\n\u001b[0;32m   2474\u001b[0m \u001b[39mdef\u001b[39;00m \u001b[39mboxplot\u001b[39m(\n\u001b[0;32m   2475\u001b[0m         x, notch\u001b[39m=\u001b[39m\u001b[39mNone\u001b[39;00m, sym\u001b[39m=\u001b[39m\u001b[39mNone\u001b[39;00m, vert\u001b[39m=\u001b[39m\u001b[39mNone\u001b[39;00m, whis\u001b[39m=\u001b[39m\u001b[39mNone\u001b[39;00m,\n\u001b[1;32m   (...)\u001b[0m\n\u001b[0;32m   2481\u001b[0m         whiskerprops\u001b[39m=\u001b[39m\u001b[39mNone\u001b[39;00m, manage_ticks\u001b[39m=\u001b[39m\u001b[39mTrue\u001b[39;00m, autorange\u001b[39m=\u001b[39m\u001b[39mFalse\u001b[39;00m,\n\u001b[0;32m   2482\u001b[0m         zorder\u001b[39m=\u001b[39m\u001b[39mNone\u001b[39;00m, capwidths\u001b[39m=\u001b[39m\u001b[39mNone\u001b[39;00m, \u001b[39m*\u001b[39m, data\u001b[39m=\u001b[39m\u001b[39mNone\u001b[39;00m):\n\u001b[1;32m-> 2483\u001b[0m     \u001b[39mreturn\u001b[39;00m gca()\u001b[39m.\u001b[39mboxplot(\n\u001b[0;32m   2484\u001b[0m         x, notch\u001b[39m=\u001b[39mnotch, sym\u001b[39m=\u001b[39msym, vert\u001b[39m=\u001b[39mvert, whis\u001b[39m=\u001b[39mwhis,\n\u001b[0;32m   2485\u001b[0m         positions\u001b[39m=\u001b[39mpositions, widths\u001b[39m=\u001b[39mwidths, patch_artist\u001b[39m=\u001b[39mpatch_artist,\n\u001b[0;32m   2486\u001b[0m         bootstrap\u001b[39m=\u001b[39mbootstrap, usermedians\u001b[39m=\u001b[39musermedians,\n\u001b[0;32m   2487\u001b[0m         conf_intervals\u001b[39m=\u001b[39mconf_intervals, meanline\u001b[39m=\u001b[39mmeanline,\n\u001b[0;32m   2488\u001b[0m         showmeans\u001b[39m=\u001b[39mshowmeans, showcaps\u001b[39m=\u001b[39mshowcaps, showbox\u001b[39m=\u001b[39mshowbox,\n\u001b[0;32m   2489\u001b[0m         showfliers\u001b[39m=\u001b[39mshowfliers, boxprops\u001b[39m=\u001b[39mboxprops, labels\u001b[39m=\u001b[39mlabels,\n\u001b[0;32m   2490\u001b[0m         flierprops\u001b[39m=\u001b[39mflierprops, medianprops\u001b[39m=\u001b[39mmedianprops,\n\u001b[0;32m   2491\u001b[0m         meanprops\u001b[39m=\u001b[39mmeanprops, capprops\u001b[39m=\u001b[39mcapprops,\n\u001b[0;32m   2492\u001b[0m         whiskerprops\u001b[39m=\u001b[39mwhiskerprops, manage_ticks\u001b[39m=\u001b[39mmanage_ticks,\n\u001b[0;32m   2493\u001b[0m         autorange\u001b[39m=\u001b[39mautorange, zorder\u001b[39m=\u001b[39mzorder, capwidths\u001b[39m=\u001b[39mcapwidths,\n\u001b[0;32m   2494\u001b[0m         \u001b[39m*\u001b[39m\u001b[39m*\u001b[39m({\u001b[39m\"\u001b[39m\u001b[39mdata\u001b[39m\u001b[39m\"\u001b[39m: data} \u001b[39mif\u001b[39;00m data \u001b[39mis\u001b[39;00m \u001b[39mnot\u001b[39;00m \u001b[39mNone\u001b[39;00m \u001b[39melse\u001b[39;00m {}))\n",
            "File \u001b[1;32mc:\\Users\\Xavier\\AppData\\Local\\Programs\\Python\\Python310\\lib\\site-packages\\matplotlib\\__init__.py:1459\u001b[0m, in \u001b[0;36m_preprocess_data.<locals>.inner\u001b[1;34m(ax, data, *args, **kwargs)\u001b[0m\n\u001b[0;32m   1456\u001b[0m \u001b[39m@functools\u001b[39m\u001b[39m.\u001b[39mwraps(func)\n\u001b[0;32m   1457\u001b[0m \u001b[39mdef\u001b[39;00m \u001b[39minner\u001b[39m(ax, \u001b[39m*\u001b[39margs, data\u001b[39m=\u001b[39m\u001b[39mNone\u001b[39;00m, \u001b[39m*\u001b[39m\u001b[39m*\u001b[39mkwargs):\n\u001b[0;32m   1458\u001b[0m     \u001b[39mif\u001b[39;00m data \u001b[39mis\u001b[39;00m \u001b[39mNone\u001b[39;00m:\n\u001b[1;32m-> 1459\u001b[0m         \u001b[39mreturn\u001b[39;00m func(ax, \u001b[39m*\u001b[39m\u001b[39mmap\u001b[39m(sanitize_sequence, args), \u001b[39m*\u001b[39m\u001b[39m*\u001b[39mkwargs)\n\u001b[0;32m   1461\u001b[0m     bound \u001b[39m=\u001b[39m new_sig\u001b[39m.\u001b[39mbind(ax, \u001b[39m*\u001b[39margs, \u001b[39m*\u001b[39m\u001b[39m*\u001b[39mkwargs)\n\u001b[0;32m   1462\u001b[0m     auto_label \u001b[39m=\u001b[39m (bound\u001b[39m.\u001b[39marguments\u001b[39m.\u001b[39mget(label_namer)\n\u001b[0;32m   1463\u001b[0m                   \u001b[39mor\u001b[39;00m bound\u001b[39m.\u001b[39mkwargs\u001b[39m.\u001b[39mget(label_namer))\n",
            "File \u001b[1;32mc:\\Users\\Xavier\\AppData\\Local\\Programs\\Python\\Python310\\lib\\site-packages\\matplotlib\\axes\\_axes.py:3914\u001b[0m, in \u001b[0;36mAxes.boxplot\u001b[1;34m(self, x, notch, sym, vert, whis, positions, widths, patch_artist, bootstrap, usermedians, conf_intervals, meanline, showmeans, showcaps, showbox, showfliers, boxprops, labels, flierprops, medianprops, meanprops, capprops, whiskerprops, manage_ticks, autorange, zorder, capwidths)\u001b[0m\n\u001b[0;32m   3911\u001b[0m \u001b[39mif\u001b[39;00m bootstrap \u001b[39mis\u001b[39;00m \u001b[39mNone\u001b[39;00m:\n\u001b[0;32m   3912\u001b[0m     bootstrap \u001b[39m=\u001b[39m mpl\u001b[39m.\u001b[39mrcParams[\u001b[39m'\u001b[39m\u001b[39mboxplot.bootstrap\u001b[39m\u001b[39m'\u001b[39m]\n\u001b[1;32m-> 3914\u001b[0m bxpstats \u001b[39m=\u001b[39m cbook\u001b[39m.\u001b[39;49mboxplot_stats(x, whis\u001b[39m=\u001b[39;49mwhis, bootstrap\u001b[39m=\u001b[39;49mbootstrap,\n\u001b[0;32m   3915\u001b[0m                                labels\u001b[39m=\u001b[39;49mlabels, autorange\u001b[39m=\u001b[39;49mautorange)\n\u001b[0;32m   3916\u001b[0m \u001b[39mif\u001b[39;00m notch \u001b[39mis\u001b[39;00m \u001b[39mNone\u001b[39;00m:\n\u001b[0;32m   3917\u001b[0m     notch \u001b[39m=\u001b[39m mpl\u001b[39m.\u001b[39mrcParams[\u001b[39m'\u001b[39m\u001b[39mboxplot.notch\u001b[39m\u001b[39m'\u001b[39m]\n",
            "File \u001b[1;32mc:\\Users\\Xavier\\AppData\\Local\\Programs\\Python\\Python310\\lib\\site-packages\\matplotlib\\cbook\\__init__.py:1192\u001b[0m, in \u001b[0;36mboxplot_stats\u001b[1;34m(X, whis, bootstrap, labels, autorange)\u001b[0m\n\u001b[0;32m   1189\u001b[0m bxpstats \u001b[39m=\u001b[39m []\n\u001b[0;32m   1191\u001b[0m \u001b[39m# convert X to a list of lists\u001b[39;00m\n\u001b[1;32m-> 1192\u001b[0m X \u001b[39m=\u001b[39m _reshape_2D(X, \u001b[39m\"\u001b[39;49m\u001b[39mX\u001b[39;49m\u001b[39m\"\u001b[39;49m)\n\u001b[0;32m   1194\u001b[0m ncols \u001b[39m=\u001b[39m \u001b[39mlen\u001b[39m(X)\n\u001b[0;32m   1195\u001b[0m \u001b[39mif\u001b[39;00m labels \u001b[39mis\u001b[39;00m \u001b[39mNone\u001b[39;00m:\n",
            "File \u001b[1;32mc:\\Users\\Xavier\\AppData\\Local\\Programs\\Python\\Python310\\lib\\site-packages\\matplotlib\\cbook\\__init__.py:1399\u001b[0m, in \u001b[0;36m_reshape_2D\u001b[1;34m(X, name)\u001b[0m\n\u001b[0;32m   1397\u001b[0m     \u001b[39melse\u001b[39;00m:\n\u001b[0;32m   1398\u001b[0m         is_1d \u001b[39m=\u001b[39m \u001b[39mFalse\u001b[39;00m\n\u001b[1;32m-> 1399\u001b[0m xi \u001b[39m=\u001b[39m np\u001b[39m.\u001b[39;49masanyarray(xi)\n\u001b[0;32m   1400\u001b[0m nd \u001b[39m=\u001b[39m np\u001b[39m.\u001b[39mndim(xi)\n\u001b[0;32m   1401\u001b[0m \u001b[39mif\u001b[39;00m nd \u001b[39m>\u001b[39m \u001b[39m1\u001b[39m:\n",
            "\u001b[1;31mValueError\u001b[0m: setting an array element with a sequence. The requested array has an inhomogeneous shape after 1 dimensions. The detected shape was (2,) + inhomogeneous part."
          ]
        },
        {
          "data": {
            "image/png": "[encoded data removed]",
            "text/plain": [
              "<Figure size 800x600 with 1 Axes>"
            ]
          },
          "metadata": {},
          "output_type": "display_data"
        }
      ],
      "source": [
        "group_labels = ['A', 'B', 'C']\n",
        "\n",
        "sal = salary.groupby(df['experience_level'])\n",
        "# Create box plots\n",
        "plt.figure(figsize=(8, 6))\n",
        "plt.boxplot(sal, labels=group_labels)\n",
        "plt.xlabel('All experience levels')\n",
        "plt.ylabel('Salary in USD')\n",
        "plt.title('Box Plot of Data Scientist Salaries')\n",
        "plt.grid()\n",
        "plt.show()"
      ]
    },
    {
      "cell_type": "markdown",
      "source": [
        "#### Pearson Correlation Coefficient"
      ],
      "metadata": {
        "id": "djJ4FkBjyxhK"
      }
    },
    {
      "cell_type": "code",
      "execution_count": null,
      "metadata": {
        "id": "L680XC6lyNaA",
        "outputId": "06de5213-a537-44a6-f0d5-d0c9ae1a2c43"
      },
      "outputs": [
        {
          "name": "stdout",
          "output_type": "stream",
          "text": [
            "Pearson Correlation Coefficient: -0.06\n",
            "P-value: 0.0001\n"
          ]
        }
      ],
      "source": [
        "from scipy.stats import pearsonr\n",
        "pearson_corr, p_value = pearsonr(df[\"salary_in_usd\"], df[\"remote_ratio\"])\n",
        "\n",
        "print(f\"Pearson Correlation Coefficient: {pearson_corr:.2f}\")\n",
        "print(f\"P-value: {p_value:.4f}\")"
      ]
    },
    {
      "cell_type": "markdown",
      "metadata": {
        "id": "Ezc_-fi5yNaB"
      },
      "source": [
        "### **3. Handling Outliers:**\n",
        "- Identify outliers in your dataset using the IQR method or visualization tools.\n",
        "- Decide on an approach to handle these outliers (e.g., remove, replace, or retain) and justify your decision in a markdown cell.\n",
        "- If there are no outliers based on 1, 2, or 3 standard deviations (or z scores >= 1), please state that and support it with your code.\n",
        "\n"
      ]
    },
    {
      "cell_type": "code",
      "execution_count": null,
      "metadata": {
        "id": "5Ulxy_NPyNaB",
        "outputId": "b1839668-124e-4d93-f6ad-52e7baa3239c"
      },
      "outputs": [
        {
          "name": "stdout",
          "output_type": "stream",
          "text": [
            "\n",
            "the interquartile range is $ 80000.0\n",
            "Outliers: [275000, 342810, 270703, 262000, 275300, 258750, 309400, 280000, 280100, 300000, 289800, 283200, 289800, 342300, 318300, 309400, 300000, 329500, 269600, 293000, 260000, 260000, 275000, 280700, 257000, 304000, 289076, 260000, 258000, 286000, 353200, 297300, 317070, 275300, 423834, 275300, 275300, 265000, 258000, 376080, 260000, 275000, 299500, 297300, 275300, 276000, 260000, 299500, 260000, 340000, 310000, 275300, 260000, 310000, 275000, 265000, 269000, 290000, 300240, 300240, 370000, 323300, 299500, 272000, 259000, 310000, 259000, 288000, 288000, 375000, 284310, 318300, 385000, 370000, 284000, 265000, 314100, 350000, 262500, 276000, 310000, 300000, 285800, 275300, 275300, 257000, 299500, 300000, 300000, 291500, 297300, 297300, 275000, 310000, 289076, 272550, 291500, 261500, 260000, 272550, 310000, 430967, 300000, 310000, 299500, 300000, 375000, 350000, 315000, 275000, 300000, 260000, 345600, 300000, 297500, 260000, 300000, 260500, 300000, 260000, 266400, 324000, 405000, 380000, 450000, 270000, 276000, 260000, 256000, 416000, 325000, 423000, 412000]\n"
          ]
        }
      ],
      "source": [
        "salary_iqr = salary_percentile_75 - salary_percentile_25\n",
        "print('\\nthe interquartile range is $', salary_iqr)\n",
        "\n",
        "threshold_lower = salary_percentile_25 - 1.5 * salary_iqr\n",
        "threshold_upper = salary_percentile_50 + 1.5 * salary_iqr\n",
        "\n",
        "# Identify outliers\n",
        "outliers = [x for x in df['salary_in_usd'] if x < threshold_lower or x > threshold_upper]\n",
        "\n",
        "print(\"Outliers:\", outliers)\n"
      ]
    },
    {
      "cell_type": "markdown",
      "metadata": {
        "id": "IR1AyyH_yNaB"
      },
      "source": [
        "#### I have decided to leave in the outliers. They are very large relative to the median and mean salaries but do provide valuable insight as to the maximum salaries that are achievable in the field of data science."
      ]
    },
    {
      "cell_type": "markdown",
      "metadata": {
        "id": "qdcyYPD7yNaB"
      },
      "source": [
        "### **4. Automated Analysis:**\n",
        "- Using the automated EDA tool pandas profiling (e.g., please refer to https://book.datascience.appliedhealthinformatics.com/docs/Ch3/automatic_EDA)\n",
        "    - Load in your dataset and analyze it\n",
        "    - Save the output (.html) in your report, within a folder called `automaticEDA`\n"
      ]
    },
    {
      "cell_type": "code",
      "execution_count": null,
      "metadata": {
        "id": "Dyh8svz9yNaB",
        "outputId": "1a5c6b4b-1698-44c4-aaac-12dcb0adad6b"
      },
      "outputs": [
        {
          "name": "stdout",
          "output_type": "stream",
          "text": [
            "Collecting pandas-profiling\n",
            "  Using cached pandas_profiling-3.6.6-py2.py3-none-any.whl (324 kB)\n",
            "Collecting ydata-profiling (from pandas-profiling)\n",
            "  Obtaining dependency information for ydata-profiling from https://files.pythonhosted.org/packages/09/98/5a5fbfd48bf23acd3ceed5114d073b877965816304078151fefbf86d8458/ydata_profiling-4.5.1-py2.py3-none-any.whl.metadata\n",
            "  Using cached ydata_profiling-4.5.1-py2.py3-none-any.whl.metadata (20 kB)\n",
            "Requirement already satisfied: scipy<1.12,>=1.4.1 in c:\\users\\xavier\\appdata\\local\\programs\\python\\python310\\lib\\site-packages (from ydata-profiling->pandas-profiling) (1.11.2)\n",
            "Requirement already satisfied: pandas!=1.4.0,<2.1,>1.1 in c:\\users\\xavier\\appdata\\local\\programs\\python\\python310\\lib\\site-packages (from ydata-profiling->pandas-profiling) (1.5.3)\n",
            "Requirement already satisfied: matplotlib<4,>=3.2 in c:\\users\\xavier\\appdata\\local\\programs\\python\\python310\\lib\\site-packages (from ydata-profiling->pandas-profiling) (3.7.1)\n",
            "Requirement already satisfied: pydantic<2,>=1.8.1 in c:\\users\\xavier\\appdata\\local\\programs\\python\\python310\\lib\\site-packages (from ydata-profiling->pandas-profiling) (1.10.12)\n",
            "Requirement already satisfied: PyYAML<6.1,>=5.0.0 in c:\\users\\xavier\\appdata\\local\\programs\\python\\python310\\lib\\site-packages (from ydata-profiling->pandas-profiling) (6.0.1)\n",
            "Collecting jinja2<3.2,>=2.11.1 (from ydata-profiling->pandas-profiling)\n",
            "  Using cached Jinja2-3.1.2-py3-none-any.whl (133 kB)\n",
            "Collecting visions[type_image_path]==0.7.5 (from ydata-profiling->pandas-profiling)\n",
            "  Using cached visions-0.7.5-py3-none-any.whl (102 kB)\n",
            "Requirement already satisfied: numpy<1.24,>=1.16.0 in c:\\users\\xavier\\appdata\\local\\programs\\python\\python310\\lib\\site-packages (from ydata-profiling->pandas-profiling) (1.23.5)\n",
            "Requirement already satisfied: htmlmin==0.1.12 in c:\\users\\xavier\\appdata\\local\\programs\\python\\python310\\lib\\site-packages (from ydata-profiling->pandas-profiling) (0.1.12)\n",
            "Collecting phik<0.13,>=0.11.1 (from ydata-profiling->pandas-profiling)\n",
            "  Using cached phik-0.12.3-cp310-cp310-win_amd64.whl (663 kB)\n",
            "Requirement already satisfied: requests<3,>=2.24.0 in c:\\users\\xavier\\appdata\\local\\programs\\python\\python310\\lib\\site-packages (from ydata-profiling->pandas-profiling) (2.28.2)\n",
            "Requirement already satisfied: tqdm<5,>=4.48.2 in c:\\users\\xavier\\appdata\\local\\programs\\python\\python310\\lib\\site-packages (from ydata-profiling->pandas-profiling) (4.65.0)\n",
            "Collecting seaborn<0.13,>=0.10.1 (from ydata-profiling->pandas-profiling)\n",
            "  Using cached seaborn-0.12.2-py3-none-any.whl (293 kB)\n",
            "Collecting multimethod<2,>=1.4 (from ydata-profiling->pandas-profiling)\n",
            "  Using cached multimethod-1.9.1-py3-none-any.whl (10 kB)\n",
            "Collecting statsmodels<1,>=0.13.2 (from ydata-profiling->pandas-profiling)\n",
            "  Using cached statsmodels-0.14.0-cp310-cp310-win_amd64.whl (9.2 MB)\n",
            "Requirement already satisfied: typeguard<3,>=2.13.2 in c:\\users\\xavier\\appdata\\local\\programs\\python\\python310\\lib\\site-packages (from ydata-profiling->pandas-profiling) (2.13.3)\n",
            "Collecting imagehash==4.3.1 (from ydata-profiling->pandas-profiling)\n",
            "  Using cached ImageHash-4.3.1-py2.py3-none-any.whl (296 kB)\n",
            "Collecting wordcloud>=1.9.1 (from ydata-profiling->pandas-profiling)\n",
            "  Obtaining dependency information for wordcloud>=1.9.1 from https://files.pythonhosted.org/packages/5a/5f/f4164295d6853ec6203bc728dea4da76a7145ba70482eab9e994d26e0e13/wordcloud-1.9.2-cp310-cp310-win_amd64.whl.metadata\n",
            "  Using cached wordcloud-1.9.2-cp310-cp310-win_amd64.whl.metadata (3.4 kB)\n",
            "Collecting dacite>=1.8 (from ydata-profiling->pandas-profiling)\n",
            "  Obtaining dependency information for dacite>=1.8 from https://files.pythonhosted.org/packages/21/0f/cf0943f4f55f0fbc7c6bd60caf1343061dff818b02af5a0d444e473bb78d/dacite-1.8.1-py3-none-any.whl.metadata\n",
            "  Using cached dacite-1.8.1-py3-none-any.whl.metadata (15 kB)\n",
            "Collecting PyWavelets (from imagehash==4.3.1->ydata-profiling->pandas-profiling)\n",
            "  Using cached PyWavelets-1.4.1-cp310-cp310-win_amd64.whl (4.2 MB)\n",
            "Requirement already satisfied: pillow in c:\\users\\xavier\\appdata\\local\\programs\\python\\python310\\lib\\site-packages (from imagehash==4.3.1->ydata-profiling->pandas-profiling) (9.4.0)\n",
            "Requirement already satisfied: attrs>=19.3.0 in c:\\users\\xavier\\appdata\\local\\programs\\python\\python310\\lib\\site-packages (from visions[type_image_path]==0.7.5->ydata-profiling->pandas-profiling) (22.2.0)\n",
            "Collecting networkx>=2.4 (from visions[type_image_path]==0.7.5->ydata-profiling->pandas-profiling)\n",
            "  Using cached networkx-3.1-py3-none-any.whl (2.1 MB)\n",
            "Requirement already satisfied: tangled-up-in-unicode>=0.0.4 in c:\\users\\xavier\\appdata\\local\\programs\\python\\python310\\lib\\site-packages (from visions[type_image_path]==0.7.5->ydata-profiling->pandas-profiling) (0.2.0)\n",
            "Collecting MarkupSafe>=2.0 (from jinja2<3.2,>=2.11.1->ydata-profiling->pandas-profiling)\n",
            "  Obtaining dependency information for MarkupSafe>=2.0 from https://files.pythonhosted.org/packages/84/a8/c4aebb8a14a1d39d5135eb8233a0b95831cdc42c4088358449c3ed657044/MarkupSafe-2.1.3-cp310-cp310-win_amd64.whl.metadata\n",
            "  Using cached MarkupSafe-2.1.3-cp310-cp310-win_amd64.whl.metadata (3.1 kB)\n",
            "Requirement already satisfied: contourpy>=1.0.1 in c:\\users\\xavier\\appdata\\local\\programs\\python\\python310\\lib\\site-packages (from matplotlib<4,>=3.2->ydata-profiling->pandas-profiling) (1.0.7)\n",
            "Requirement already satisfied: cycler>=0.10 in c:\\users\\xavier\\appdata\\local\\programs\\python\\python310\\lib\\site-packages (from matplotlib<4,>=3.2->ydata-profiling->pandas-profiling) (0.11.0)\n",
            "Requirement already satisfied: fonttools>=4.22.0 in c:\\users\\xavier\\appdata\\local\\programs\\python\\python310\\lib\\site-packages (from matplotlib<4,>=3.2->ydata-profiling->pandas-profiling) (4.38.0)\n",
            "Requirement already satisfied: kiwisolver>=1.0.1 in c:\\users\\xavier\\appdata\\local\\programs\\python\\python310\\lib\\site-packages (from matplotlib<4,>=3.2->ydata-profiling->pandas-profiling) (1.4.4)\n",
            "Requirement already satisfied: packaging>=20.0 in c:\\users\\xavier\\appdata\\local\\programs\\python\\python310\\lib\\site-packages (from matplotlib<4,>=3.2->ydata-profiling->pandas-profiling) (23.0)\n",
            "Requirement already satisfied: pyparsing>=2.3.1 in c:\\users\\xavier\\appdata\\local\\programs\\python\\python310\\lib\\site-packages (from matplotlib<4,>=3.2->ydata-profiling->pandas-profiling) (3.0.9)\n",
            "Requirement already satisfied: python-dateutil>=2.7 in c:\\users\\xavier\\appdata\\local\\programs\\python\\python310\\lib\\site-packages (from matplotlib<4,>=3.2->ydata-profiling->pandas-profiling) (2.8.2)\n",
            "Requirement already satisfied: pytz>=2020.1 in c:\\users\\xavier\\appdata\\local\\programs\\python\\python310\\lib\\site-packages (from pandas!=1.4.0,<2.1,>1.1->ydata-profiling->pandas-profiling) (2022.7.1)\n",
            "Collecting joblib>=0.14.1 (from phik<0.13,>=0.11.1->ydata-profiling->pandas-profiling)\n",
            "  Obtaining dependency information for joblib>=0.14.1 from https://files.pythonhosted.org/packages/10/40/d551139c85db202f1f384ba8bcf96aca2f329440a844f924c8a0040b6d02/joblib-1.3.2-py3-none-any.whl.metadata\n",
            "  Using cached joblib-1.3.2-py3-none-any.whl.metadata (5.4 kB)\n",
            "Requirement already satisfied: typing-extensions>=4.2.0 in c:\\users\\xavier\\appdata\\local\\programs\\python\\python310\\lib\\site-packages (from pydantic<2,>=1.8.1->ydata-profiling->pandas-profiling) (4.7.1)\n",
            "Requirement already satisfied: charset-normalizer<4,>=2 in c:\\users\\xavier\\appdata\\local\\programs\\python\\python310\\lib\\site-packages (from requests<3,>=2.24.0->ydata-profiling->pandas-profiling) (3.0.1)\n",
            "Requirement already satisfied: idna<4,>=2.5 in c:\\users\\xavier\\appdata\\local\\programs\\python\\python310\\lib\\site-packages (from requests<3,>=2.24.0->ydata-profiling->pandas-profiling) (3.4)\n",
            "Requirement already satisfied: urllib3<1.27,>=1.21.1 in c:\\users\\xavier\\appdata\\local\\programs\\python\\python310\\lib\\site-packages (from requests<3,>=2.24.0->ydata-profiling->pandas-profiling) (1.26.14)\n",
            "Requirement already satisfied: certifi>=2017.4.17 in c:\\users\\xavier\\appdata\\local\\programs\\python\\python310\\lib\\site-packages (from requests<3,>=2.24.0->ydata-profiling->pandas-profiling) (2022.12.7)\n",
            "Collecting patsy>=0.5.2 (from statsmodels<1,>=0.13.2->ydata-profiling->pandas-profiling)\n",
            "  Using cached patsy-0.5.3-py2.py3-none-any.whl (233 kB)\n",
            "Requirement already satisfied: colorama in c:\\users\\xavier\\appdata\\local\\programs\\python\\python310\\lib\\site-packages (from tqdm<5,>=4.48.2->ydata-profiling->pandas-profiling) (0.4.6)\n",
            "Requirement already satisfied: six in c:\\users\\xavier\\appdata\\local\\programs\\python\\python310\\lib\\site-packages (from patsy>=0.5.2->statsmodels<1,>=0.13.2->ydata-profiling->pandas-profiling) (1.16.0)\n",
            "Using cached ydata_profiling-4.5.1-py2.py3-none-any.whl (357 kB)\n",
            "Using cached dacite-1.8.1-py3-none-any.whl (14 kB)\n",
            "Using cached wordcloud-1.9.2-cp310-cp310-win_amd64.whl (152 kB)\n",
            "Using cached joblib-1.3.2-py3-none-any.whl (302 kB)\n",
            "Using cached MarkupSafe-2.1.3-cp310-cp310-win_amd64.whl (17 kB)\n",
            "Installing collected packages: PyWavelets, patsy, networkx, multimethod, MarkupSafe, joblib, dacite, jinja2, imagehash, wordcloud, visions, statsmodels, seaborn, phik, ydata-profiling, pandas-profiling\n",
            "Successfully installed MarkupSafe-2.1.3 PyWavelets-1.4.1 dacite-1.8.1 imagehash-4.3.1 jinja2-3.1.2 joblib-1.3.2 multimethod-1.9.1 networkx-3.1 pandas-profiling-3.6.6 patsy-0.5.3 phik-0.12.3 seaborn-0.12.2 statsmodels-0.14.0 visions-0.7.5 wordcloud-1.9.2 ydata-profiling-4.5.1\n"
          ]
        }
      ],
      "source": [
        "!pip install pandas-profiling"
      ]
    },
    {
      "cell_type": "code",
      "execution_count": null,
      "metadata": {
        "id": "RB0OyMTpyNaB",
        "outputId": "6558dee5-0672-4c3c-eb3c-8b100cf69d94"
      },
      "outputs": [
        {
          "name": "stderr",
          "output_type": "stream",
          "text": [
            "Summarize dataset: 100%|██████████| 24/24 [00:01<00:00, 18.78it/s, Completed]                           \n",
            "Generate report structure: 100%|██████████| 1/1 [00:01<00:00,  1.69s/it]\n",
            "Render HTML: 100%|██████████| 1/1 [00:00<00:00,  3.70it/s]\n",
            "Export report to file: 100%|██████████| 1/1 [00:00<00:00, 334.15it/s]\n"
          ]
        }
      ],
      "source": [
        "from pandas_profiling import ProfileReport\n",
        "\n",
        "# Generate the EDA report\n",
        "report = ProfileReport(df)\n",
        "report.to_file(r'c:\\Users\\Xavier\\Downloads\\eda_report.html')"
      ]
    }
  ],
  "metadata": {
    "kernelspec": {
      "display_name": "Python 3",
      "language": "python",
      "name": "python3"
    },
    "language_info": {
      "codemirror_mode": {
        "name": "ipython",
        "version": 3
      },
      "file_extension": ".py",
      "mimetype": "text/x-python",
      "name": "python",
      "nbconvert_exporter": "python",
      "pygments_lexer": "ipython3",
      "version": "3.10.5"
    },
    "orig_nbformat": 4,
    "colab": {
      "provenance": [],
      "include_colab_link": true
    }
  },
  "nbformat": 4,
  "nbformat_minor": 0
}